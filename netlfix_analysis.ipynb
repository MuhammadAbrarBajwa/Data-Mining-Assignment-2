{
 "cells": [
  {
   "cell_type": "markdown",
   "metadata": {},
   "source": [
    "# Name: Muhammad Abrar Bajwa\n",
    "# Section: SE-B\n",
    "# Roll Number: 20B-017-SE\n",
    "# Data Mining Assignment 2"
   ]
  },
  {
   "cell_type": "code",
   "execution_count": 1,
   "metadata": {},
   "outputs": [],
   "source": [
    "import pandas as pd\n",
    "import numpy as np\n",
    "import matplotlib.pyplot as plt"
   ]
  },
  {
   "cell_type": "code",
   "execution_count": 2,
   "metadata": {},
   "outputs": [
    {
     "name": "stdout",
     "output_type": "stream",
     "text": [
      "Done..\n",
      "          id                                title   type  \\\n",
      "0   ts300399  Five Came Back: The Reference Films   SHOW   \n",
      "24  tm102287                      Raya and Sakina  MOVIE   \n",
      "28   tm19608                      The Blazing Sun  MOVIE   \n",
      "15   tm16479                      White Christmas  MOVIE   \n",
      "22  tm204541                          Dark Waters  MOVIE   \n",
      "\n",
      "                                          description  release_year  \\\n",
      "0   This collection includes 12 World War II-era p...          1945   \n",
      "24  Dramatic rendition of a real life crime wave t...          1953   \n",
      "28  A rich landlord floods and destroys a village ...          1954   \n",
      "15  Two talented song-and-dance men team up after ...          1954   \n",
      "22  Ragab, a poor sailor, returns home to Alexandr...          1956   \n",
      "\n",
      "   age_certification  runtime                                      genres  \\\n",
      "0              TV-MA       48                           ['documentation']   \n",
      "24               NaN      105   ['drama', 'thriller', 'crime', 'history']   \n",
      "28               NaN      100               ['romance', 'crime', 'drama']   \n",
      "15               NaN      115              ['romance', 'comedy', 'music']   \n",
      "22               NaN      120  ['drama', 'action', 'romance', 'thriller']   \n",
      "\n",
      "   production_countries  seasons    imdb_id  imdb_score  imdb_votes  \\\n",
      "0                ['US']      1.0        NaN         NaN         NaN   \n",
      "24               ['EG']      NaN  tt0316472         6.8       231.0   \n",
      "28               ['EG']      NaN  tt0044429         7.4      1219.0   \n",
      "15               ['US']      NaN  tt0047673         7.5     42373.0   \n",
      "22               ['EG']      NaN  tt0049761         6.7       590.0   \n",
      "\n",
      "    tmdb_popularity  tmdb_score  \n",
      "0             0.600         NaN  \n",
      "24            1.826         5.8  \n",
      "28            1.866         7.0  \n",
      "15            9.710         7.2  \n",
      "22            1.044         5.9  \n"
     ]
    }
   ],
   "source": [
    "df = pd.read_csv('titles.csv')\n",
    "df.sort_values(by='release_year', inplace=True)\n",
    "print('Done..')\n",
    "print(df.head())"
   ]
  },
  {
   "cell_type": "code",
   "execution_count": 3,
   "metadata": {},
   "outputs": [
    {
     "name": "stdout",
     "output_type": "stream",
     "text": [
      "Null values: (array([   0,    0,    0, ..., 5805, 5805, 5805], dtype=int64), array([10, 11, 12, ...,  9, 13, 14], dtype=int64)) and 9\n",
      "Total duplicates : 0\n"
     ]
    }
   ],
   "source": [
    "print(\"Null values:\",np.where(df.isnull()),\"and\",sum(df.isnull().any()))\n",
    "dup_bool = df.duplicated(['id'])\n",
    "dups = sum(dup_bool)\n",
    "print(\"Total duplicates :\", dups)"
   ]
  },
  {
   "cell_type": "code",
   "execution_count": 4,
   "metadata": {},
   "outputs": [
    {
     "name": "stdout",
     "output_type": "stream",
     "text": [
      "Total data: \n",
      "\n",
      "Total ratings : 82\n",
      "Total movies  : 5806\n",
      "Total seasons  : 24\n",
      "Total genres  : 1626\n",
      "Total countries : 449\n"
     ]
    }
   ],
   "source": [
    "remove_dups = df[~dup_bool]\n",
    "print(\"Total data: \")\n",
    "print(\"\\nTotal ratings :\",len(np.unique(remove_dups.imdb_score)))\n",
    "print(\"Total movies  :\", len(np.unique(remove_dups.id)))\n",
    "print(\"Total seasons  :\", len(np.unique(remove_dups.seasons)))\n",
    "print(\"Total genres  :\", len(np.unique(remove_dups.genres)))\n",
    "print(\"Total countries :\", len(np.unique(remove_dups.production_countries)))"
   ]
  },
  {
   "cell_type": "code",
   "execution_count": 5,
   "metadata": {},
   "outputs": [
    {
     "data": {
      "image/png": "[encoded data removed]",
      "text/plain": [
       "<Figure size 432x288 with 1 Axes>"
      ]
     },
     "metadata": {
      "needs_background": "light"
     },
     "output_type": "display_data"
    }
   ],
   "source": [
    "plt.hist(remove_dups.imdb_score, bins=100)\n",
    "plt.title(\"Distribution of ratings\")\n",
    "plt.xlabel(\"Ratings\")\n",
    "plt.ylabel(\"Frequency\")\n",
    "plt.show()\n"
   ]
  },
  {
   "cell_type": "code",
   "execution_count": 6,
   "metadata": {},
   "outputs": [
    {
     "data": {
      "image/png": "[encoded data removed]",
      "text/plain": [
       "<Figure size 432x288 with 1 Axes>"
      ]
     },
     "metadata": {
      "needs_background": "light"
     },
     "output_type": "display_data"
    }
   ],
   "source": [
    "plt.hist(remove_dups.seasons, bins=100)\n",
    "plt.title(\"Distribution of seasons\")\n",
    "plt.xlabel(\"Seasons\")\n",
    "plt.ylabel(\"Frequency\")\n",
    "plt.show()"
   ]
  },
  {
   "cell_type": "code",
   "execution_count": 7,
   "metadata": {},
   "outputs": [
    {
     "data": {
      "image/png": "[encoded data removed]",
      "text/plain": [
       "<Figure size 432x288 with 1 Axes>"
      ]
     },
     "metadata": {
      "needs_background": "light"
     },
     "output_type": "display_data"
    }
   ],
   "source": [
    "plt.bar(remove_dups.type, remove_dups.imdb_score)\n",
    "plt.title(\"Distribution of ratings by movie or show\")\n",
    "plt.xlabel(\"Type\")\n",
    "plt.ylabel(\"Ratings\")\n",
    "plt.show()"
   ]
  }
 ],
 "metadata": {
  "kernelspec": {
   "display_name": "Python 3.9.11 64-bit",
   "language": "python",
   "name": "python3"
  },
  "language_info": {
   "codemirror_mode": {
    "name": "ipython",
    "version": 3
   },
   "file_extension": ".py",
   "mimetype": "text/x-python",
   "name": "python",
   "nbconvert_exporter": "python",
   "pygments_lexer": "ipython3",
   "version": "3.9.11"
  },
  "orig_nbformat": 4,
  "vscode": {
   "interpreter": {
    "hash": "c081257499a92776a7ff5343ee4d85420a7950a6ae97b0cb2aee7a7ddd41b7f2"
   }
  }
 },
 "nbformat": 4,
 "nbformat_minor": 2
}
